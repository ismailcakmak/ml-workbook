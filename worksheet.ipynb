{
 "cells": [
  {
   "cell_type": "markdown",
   "metadata": {},
   "source": [
    "# OS Hakkında"
   ]
  },
  {
   "cell_type": "code",
   "execution_count": 3,
   "metadata": {},
   "outputs": [
    {
     "data": {
      "text/plain": [
       "['ismail.py', 'nn_worksheet.ipynb', 'worksheet.ipynb']"
      ]
     },
     "execution_count": 3,
     "metadata": {},
     "output_type": "execute_result"
    }
   ],
   "source": [
    "import os\n",
    "dir = r\"C:\\Users\\ismailcakmak\\ML Worksheet\""
   ]
  },
  {
   "cell_type": "code",
   "execution_count": 4,
   "metadata": {},
   "outputs": [
    {
     "data": {
      "text/plain": [
       "'C:\\\\Users\\\\ismailcakmak\\\\ML Worksheet\\\\newfile.py'"
      ]
     },
     "execution_count": 4,
     "metadata": {},
     "output_type": "execute_result"
    }
   ],
   "source": [
    "#hangi sistemdeysen win, mac, linux ona uygun dosya yolunu çıkartır\n",
    "os.path.join(dir,\"newfile.py\")"
   ]
  },
  {
   "cell_type": "code",
   "execution_count": 6,
   "metadata": {},
   "outputs": [
    {
     "data": {
      "text/plain": [
       "['ismail.py', 'nn_worksheet.ipynb', 'worksheet.ipynb']"
      ]
     },
     "execution_count": 6,
     "metadata": {},
     "output_type": "execute_result"
    }
   ],
   "source": [
    "#bulunduğun dizindeki dosyaları listeler\n",
    "os.listdir(dir)"
   ]
  },
  {
   "cell_type": "markdown",
   "metadata": {},
   "source": [
    "## Tensorflow Hakkında"
   ]
  },
  {
   "cell_type": "code",
   "execution_count": 7,
   "metadata": {},
   "outputs": [],
   "source": [
    "import tensorflow as tf"
   ]
  },
  {
   "cell_type": "code",
   "execution_count": 9,
   "metadata": {},
   "outputs": [
    {
     "data": {
      "text/plain": [
       "[]"
      ]
     },
     "execution_count": 9,
     "metadata": {},
     "output_type": "execute_result"
    }
   ],
   "source": [
    "gpus = tf.config.experimental.list_physical_devices('GPU')\n",
    "gpus"
   ]
  },
  {
   "cell_type": "code",
   "execution_count": null,
   "metadata": {},
   "outputs": [],
   "source": [
    "# Avoid OOM errors by setting GPU Memory Consumption Growth\n",
    "gpus = tf.config.experimental.list_physical_devices('GPU')\n",
    "for gpu in gpus: \n",
    "    tf.config.experimental.set_memory_growth(gpu, True)"
   ]
  },
  {
   "cell_type": "markdown",
   "metadata": {},
   "source": [
    "## Numpy Hakkında"
   ]
  },
  {
   "cell_type": "code",
   "execution_count": 1,
   "metadata": {},
   "outputs": [
    {
     "name": "stdout",
     "output_type": "stream",
     "text": [
      "Requirement already satisfied: numpy in c:\\users\\localadmin\\appdata\\local\\packages\\pythonsoftwarefoundation.python.3.10_qbz5n2kfra8p0\\localcache\\local-packages\\python310\\site-packages (1.24.2)\n"
     ]
    },
    {
     "name": "stderr",
     "output_type": "stream",
     "text": [
      "WARNING: Ignoring invalid distribution -rotobuf (c:\\users\\localadmin\\appdata\\local\\packages\\pythonsoftwarefoundation.python.3.10_qbz5n2kfra8p0\\localcache\\local-packages\\python310\\site-packages)\n",
      "WARNING: Ignoring invalid distribution -rotobuf (c:\\users\\localadmin\\appdata\\local\\packages\\pythonsoftwarefoundation.python.3.10_qbz5n2kfra8p0\\localcache\\local-packages\\python310\\site-packages)\n",
      "WARNING: Ignoring invalid distribution -rotobuf (c:\\users\\localadmin\\appdata\\local\\packages\\pythonsoftwarefoundation.python.3.10_qbz5n2kfra8p0\\localcache\\local-packages\\python310\\site-packages)\n",
      "WARNING: Ignoring invalid distribution -rotobuf (c:\\users\\localadmin\\appdata\\local\\packages\\pythonsoftwarefoundation.python.3.10_qbz5n2kfra8p0\\localcache\\local-packages\\python310\\site-packages)\n",
      "WARNING: Ignoring invalid distribution -rotobuf (c:\\users\\localadmin\\appdata\\local\\packages\\pythonsoftwarefoundation.python.3.10_qbz5n2kfra8p0\\localcache\\local-packages\\python310\\site-packages)\n",
      "WARNING: Ignoring invalid distribution -rotobuf (c:\\users\\localadmin\\appdata\\local\\packages\\pythonsoftwarefoundation.python.3.10_qbz5n2kfra8p0\\localcache\\local-packages\\python310\\site-packages)\n",
      "\n",
      "[notice] A new release of pip is available: 23.0.1 -> 24.2\n",
      "[notice] To update, run: C:\\Users\\LocalAdmin\\AppData\\Local\\Microsoft\\WindowsApps\\PythonSoftwareFoundation.Python.3.10_qbz5n2kfra8p0\\python.exe -m pip install --upgrade pip\n"
     ]
    }
   ],
   "source": [
    "!pip install numpy"
   ]
  },
  {
   "cell_type": "code",
   "execution_count": 2,
   "metadata": {},
   "outputs": [],
   "source": [
    "import numpy as np"
   ]
  },
  {
   "cell_type": "markdown",
   "metadata": {},
   "source": [
    "### 1. Create"
   ]
  },
  {
   "cell_type": "code",
   "execution_count": 6,
   "metadata": {},
   "outputs": [],
   "source": [
    "data = np.random.rand(2,3,4)\n",
    "zeroes = np.zeros((2,2,2))\n",
    "full = np.full((2,2,2),7)\n",
    "ones = np.ones((2,2,2))\n",
    "\n",
    "# (2,2,2) vs burda shape "
   ]
  },
  {
   "cell_type": "code",
   "execution_count": 60,
   "metadata": {},
   "outputs": [],
   "source": [
    "#Create Custom Arrays\n",
    "#np.arrayin içine direk istediğimiz arrayi yazıyoruz, shape i değil\n",
    "arr = np.array([[1,2,3],[4,5,6]])"
   ]
  },
  {
   "cell_type": "code",
   "execution_count": 11,
   "metadata": {},
   "outputs": [
    {
     "data": {
      "text/plain": [
       "array([[1, 2, 3],\n",
       "       [4, 5, 6]])"
      ]
     },
     "execution_count": 11,
     "metadata": {},
     "output_type": "execute_result"
    }
   ],
   "source": [
    "arr"
   ]
  },
  {
   "cell_type": "code",
   "execution_count": 12,
   "metadata": {},
   "outputs": [
    {
     "data": {
      "text/plain": [
       "numpy.ndarray"
      ]
     },
     "execution_count": 12,
     "metadata": {},
     "output_type": "execute_result"
    }
   ],
   "source": [
    "type(arr)"
   ]
  },
  {
   "cell_type": "code",
   "execution_count": 13,
   "metadata": {},
   "outputs": [
    {
     "data": {
      "text/plain": [
       "array([0.59645782, 0.9529707 , 0.83453001, 0.65964097, 0.76372727,\n",
       "       0.3401624 , 0.01145652, 0.24240355, 0.94215387, 0.69680142])"
      ]
     },
     "execution_count": 13,
     "metadata": {},
     "output_type": "execute_result"
    }
   ],
   "source": [
    "np.random.rand(10)"
   ]
  },
  {
   "cell_type": "code",
   "execution_count": null,
   "metadata": {},
   "outputs": [],
   "source": []
  },
  {
   "cell_type": "markdown",
   "metadata": {},
   "source": [
    "## 2.Read"
   ]
  },
  {
   "cell_type": "markdown",
   "metadata": {},
   "source": [
    "numpy array de bir veri yapısı sonuç olarak bu yüzden kendi içinde bazı attribute ler tutuyor"
   ]
  },
  {
   "cell_type": "code",
   "execution_count": 16,
   "metadata": {},
   "outputs": [],
   "source": [
    "#Attributes\n",
    "shape = data.shape\n",
    "size = data.size\n",
    "types = data.dtype"
   ]
  },
  {
   "cell_type": "code",
   "execution_count": 19,
   "metadata": {},
   "outputs": [
    {
     "data": {
      "text/plain": [
       "(2, 3, 4)"
      ]
     },
     "execution_count": 19,
     "metadata": {},
     "output_type": "execute_result"
    }
   ],
   "source": [
    "#arrayı oluştururken verdiğimiz shape i geri aldık\n",
    "shape"
   ]
  },
  {
   "cell_type": "code",
   "execution_count": 21,
   "metadata": {},
   "outputs": [
    {
     "data": {
      "text/plain": [
       "24"
      ]
     },
     "execution_count": 21,
     "metadata": {},
     "output_type": "execute_result"
    }
   ],
   "source": [
    "#arraydaki toplam veri sayısı\n",
    "size"
   ]
  },
  {
   "cell_type": "code",
   "execution_count": 24,
   "metadata": {},
   "outputs": [
    {
     "data": {
      "text/plain": [
       "dtype('float64')"
      ]
     },
     "execution_count": 24,
     "metadata": {},
     "output_type": "execute_result"
    }
   ],
   "source": [
    "#arraydeki verinin türü\n",
    "types"
   ]
  },
  {
   "cell_type": "code",
   "execution_count": 25,
   "metadata": {},
   "outputs": [
    {
     "data": {
      "text/plain": [
       "array([[[0.39579512, 0.5509696 , 0.79515688, 0.97272101],\n",
       "        [0.91224112, 0.26607612, 0.26254062, 0.10151749],\n",
       "        [0.7278601 , 0.97613787, 0.58412883, 0.27899291]],\n",
       "\n",
       "       [[0.34291925, 0.0778878 , 0.62025272, 0.08286534],\n",
       "        [0.16806631, 0.40254886, 0.79960908, 0.69821994],\n",
       "        [0.16501683, 0.88552952, 0.47686739, 0.69843486]]])"
      ]
     },
     "execution_count": 25,
     "metadata": {},
     "output_type": "execute_result"
    }
   ],
   "source": [
    "data"
   ]
  },
  {
   "cell_type": "code",
   "execution_count": 27,
   "metadata": {},
   "outputs": [
    {
     "data": {
      "text/plain": [
       "array([[0.39579512, 0.5509696 , 0.79515688, 0.97272101],\n",
       "       [0.91224112, 0.26607612, 0.26254062, 0.10151749],\n",
       "       [0.7278601 , 0.97613787, 0.58412883, 0.27899291]])"
      ]
     },
     "execution_count": 27,
     "metadata": {},
     "output_type": "execute_result"
    }
   ],
   "source": [
    "data[0]\n",
    "\n",
    "#size (2,3,4) daki (3,4) kısmı"
   ]
  },
  {
   "cell_type": "code",
   "execution_count": 28,
   "metadata": {},
   "outputs": [
    {
     "data": {
      "text/plain": [
       "array([[0.34291925, 0.0778878 , 0.62025272, 0.08286534],\n",
       "       [0.16806631, 0.40254886, 0.79960908, 0.69821994],\n",
       "       [0.16501683, 0.88552952, 0.47686739, 0.69843486]])"
      ]
     },
     "execution_count": 28,
     "metadata": {},
     "output_type": "execute_result"
    }
   ],
   "source": [
    "data[1]\n",
    "\n",
    "#size (2,3,4) daki (3,4) kısmı"
   ]
  },
  {
   "cell_type": "code",
   "execution_count": 44,
   "metadata": {},
   "outputs": [],
   "source": [
    "arr = data[0]\n",
    "slicer = data[0:2] # arrayin hepsi yapıyor bu şuan\n",
    "slicer2 = data[0][0:2] #ilk arrayin ilk 2 satırı\n",
    "reverse = data[-1] # arrayin son elemanı\n",
    "singleval = data[0][0][0] #ilk arrayın ilk arrayinin ilk elemanı"
   ]
  },
  {
   "cell_type": "code",
   "execution_count": 45,
   "metadata": {},
   "outputs": [
    {
     "data": {
      "text/plain": [
       "array([[0.34291925, 0.0778878 , 0.62025272, 0.08286534],\n",
       "       [0.16806631, 0.40254886, 0.79960908, 0.69821994],\n",
       "       [0.16501683, 0.88552952, 0.47686739, 0.69843486]])"
      ]
     },
     "execution_count": 45,
     "metadata": {},
     "output_type": "execute_result"
    }
   ],
   "source": [
    "reverse"
   ]
  },
  {
   "cell_type": "code",
   "execution_count": 46,
   "metadata": {},
   "outputs": [
    {
     "data": {
      "text/plain": [
       "0.3957951200908002"
      ]
     },
     "execution_count": 46,
     "metadata": {},
     "output_type": "execute_result"
    }
   ],
   "source": [
    "singleval"
   ]
  },
  {
   "cell_type": "code",
   "execution_count": 47,
   "metadata": {},
   "outputs": [
    {
     "data": {
      "text/plain": [
       "array([[0.39579512, 0.5509696 , 0.79515688, 0.97272101],\n",
       "       [0.91224112, 0.26607612, 0.26254062, 0.10151749]])"
      ]
     },
     "execution_count": 47,
     "metadata": {},
     "output_type": "execute_result"
    }
   ],
   "source": [
    "slicer2"
   ]
  },
  {
   "cell_type": "code",
   "execution_count": null,
   "metadata": {},
   "outputs": [],
   "source": []
  },
  {
   "cell_type": "markdown",
   "metadata": {},
   "source": [
    "## 3. Update"
   ]
  },
  {
   "cell_type": "code",
   "execution_count": 49,
   "metadata": {},
   "outputs": [],
   "source": [
    "list1 = np.random.rand(10)\n",
    "list2 = np.random.rand(10)"
   ]
  },
  {
   "cell_type": "code",
   "execution_count": 50,
   "metadata": {},
   "outputs": [
    {
     "data": {
      "text/plain": [
       "array([0.6605315 , 0.61631696, 0.86845546, 0.71301481, 0.10087334,\n",
       "       0.40286767, 0.31872592, 0.3090847 , 0.6998578 , 0.35929461])"
      ]
     },
     "execution_count": 50,
     "metadata": {},
     "output_type": "execute_result"
    }
   ],
   "source": [
    "list1"
   ]
  },
  {
   "cell_type": "code",
   "execution_count": 55,
   "metadata": {},
   "outputs": [],
   "source": [
    "#Basic Math\n",
    "add = np.add(list1,list2)\n",
    "sub = np.subtract(list1,list2)\n",
    "div = np.divide(list1,list2)\n",
    "mult = np.multiply(list1,list2)\n",
    "dot = np.dot(list1,list2)"
   ]
  },
  {
   "cell_type": "code",
   "execution_count": 56,
   "metadata": {},
   "outputs": [
    {
     "data": {
      "text/plain": [
       "3.0346092457757288"
      ]
     },
     "execution_count": 56,
     "metadata": {},
     "output_type": "execute_result"
    }
   ],
   "source": [
    "dot "
   ]
  },
  {
   "cell_type": "code",
   "execution_count": 63,
   "metadata": {},
   "outputs": [
    {
     "data": {
      "text/plain": [
       "3.0346092457757297"
      ]
     },
     "execution_count": 63,
     "metadata": {},
     "output_type": "execute_result"
    }
   ],
   "source": [
    "np.sum(mult)       #this is actually same with dot :)"
   ]
  },
  {
   "cell_type": "code",
   "execution_count": 74,
   "metadata": {},
   "outputs": [],
   "source": [
    "#Stat Functions\n",
    "\n",
    "#bu fonksiyonlar birer değer de alabilirler, liste de alabilirler\n",
    "sqrt = np.sqrt(25)\n",
    "ab = np.abs(-2)\n",
    "power = np.power(2,7)\n",
    "log = np.log(25)\n",
    "exp = np.exp([2,3])  # e üzeri2, e üzeri3\n",
    "mins = np.min(list1)\n",
    "maxs = np.max(list1)"
   ]
  },
  {
   "cell_type": "code",
   "execution_count": 75,
   "metadata": {},
   "outputs": [
    {
     "data": {
      "text/plain": [
       "5.0"
      ]
     },
     "execution_count": 75,
     "metadata": {},
     "output_type": "execute_result"
    }
   ],
   "source": [
    "sqrt"
   ]
  },
  {
   "cell_type": "code",
   "execution_count": 76,
   "metadata": {},
   "outputs": [
    {
     "data": {
      "text/plain": [
       "array([ 7.3890561 , 20.08553692])"
      ]
     },
     "execution_count": 76,
     "metadata": {},
     "output_type": "execute_result"
    }
   ],
   "source": [
    "exp"
   ]
  },
  {
   "cell_type": "code",
   "execution_count": 77,
   "metadata": {},
   "outputs": [
    {
     "data": {
      "text/plain": [
       "0.10087334187903307"
      ]
     },
     "execution_count": 77,
     "metadata": {},
     "output_type": "execute_result"
    }
   ],
   "source": [
    "mins"
   ]
  },
  {
   "cell_type": "code",
   "execution_count": 78,
   "metadata": {},
   "outputs": [],
   "source": [
    "arr = np.random.rand(2,3,4)"
   ]
  },
  {
   "cell_type": "code",
   "execution_count": 79,
   "metadata": {},
   "outputs": [
    {
     "data": {
      "text/plain": [
       "array([[[0.30557126, 0.91987714, 0.61998423, 0.0509751 ],\n",
       "        [0.37113987, 0.44551377, 0.85644823, 0.14207908],\n",
       "        [0.45398158, 0.32964392, 0.70198462, 0.76343226]],\n",
       "\n",
       "       [[0.53234751, 0.64785642, 0.83090731, 0.9365079 ],\n",
       "        [0.23494733, 0.51268913, 0.93144351, 0.984236  ],\n",
       "        [0.41575932, 0.93425558, 0.11738666, 0.35046325]]])"
      ]
     },
     "execution_count": 79,
     "metadata": {},
     "output_type": "execute_result"
    }
   ],
   "source": [
    "arr"
   ]
  },
  {
   "cell_type": "code",
   "execution_count": 80,
   "metadata": {},
   "outputs": [
    {
     "data": {
      "text/plain": [
       "0.05097509601068029"
      ]
     },
     "execution_count": 80,
     "metadata": {},
     "output_type": "execute_result"
    }
   ],
   "source": [
    "np.min(arr)"
   ]
  },
  {
   "cell_type": "code",
   "execution_count": 81,
   "metadata": {},
   "outputs": [
    {
     "data": {
      "text/plain": [
       "array([[[1.35740021, 2.5089821 , 1.85889873, 1.05229669],\n",
       "        [1.44938578, 1.56129213, 2.35478218, 1.1526678 ],\n",
       "        [1.57456899, 1.39047292, 2.01775321, 2.14562794]],\n",
       "\n",
       "       [[1.70292525, 1.91143911, 2.29540044, 2.55105729],\n",
       "        [1.26484215, 1.66977541, 2.53817041, 2.67576681],\n",
       "        [1.51552106, 2.54531796, 1.12455416, 1.41972508]]])"
      ]
     },
     "execution_count": 81,
     "metadata": {},
     "output_type": "execute_result"
    }
   ],
   "source": [
    "np.exp(arr)"
   ]
  },
  {
   "cell_type": "code",
   "execution_count": 84,
   "metadata": {},
   "outputs": [
    {
     "name": "stdout",
     "output_type": "stream",
     "text": [
      "[[[0.30557126 0.91987714 0.61998423 0.0509751 ]\n",
      "  [0.37113987 0.44551377 0.85644823 0.14207908]\n",
      "  [0.45398158 0.32964392 0.70198462 0.76343226]]\n",
      "\n",
      " [[0.53234751 0.64785642 0.83090731 0.9365079 ]\n",
      "  [0.23494733 0.51268913 0.93144351 0.984236  ]\n",
      "  [0.41575932 0.93425558 0.11738666 0.35046325]]]\n",
      "[[[7.00000000e+02 9.19877135e-01 6.19984229e-01 5.09750960e-02]\n",
      "  [3.71139866e-01 4.45513768e-01 8.56448230e-01 1.42079082e-01]\n",
      "  [4.53981577e-01 3.29643921e-01 7.01984618e-01 7.63432256e-01]]\n",
      "\n",
      " [[5.32347507e-01 6.47856420e-01 8.30907313e-01 9.36507898e-01]\n",
      "  [2.34947331e-01 5.12689131e-01 9.31443511e-01 9.84235997e-01]\n",
      "  [4.15759316e-01 9.34255579e-01 1.17386658e-01 3.50463247e-01]]]\n"
     ]
    }
   ],
   "source": [
    "#modifying data is straightforward\n",
    "print(arr)\n",
    "arr[0][0][0] = 700\n",
    "print(arr)"
   ]
  },
  {
   "cell_type": "code",
   "execution_count": 97,
   "metadata": {},
   "outputs": [
    {
     "data": {
      "text/plain": [
       "array([0.64788911, 0.69180035, 0.36435483, 0.06526284, 0.30005977,\n",
       "       0.11815003, 0.66235652, 0.70131484, 0.31016032, 0.51718481])"
      ]
     },
     "execution_count": 97,
     "metadata": {},
     "output_type": "execute_result"
    }
   ],
   "source": [
    "smallarr = np.random.rand(10)\n",
    "smallarr"
   ]
  },
  {
   "cell_type": "code",
   "execution_count": 98,
   "metadata": {},
   "outputs": [
    {
     "data": {
      "text/plain": [
       "array([0.06526284, 0.11815003, 0.30005977, 0.31016032, 0.36435483,\n",
       "       0.51718481, 0.64788911, 0.66235652, 0.69180035, 0.70131484])"
      ]
     },
     "execution_count": 98,
     "metadata": {},
     "output_type": "execute_result"
    }
   ],
   "source": [
    "smallarr.sort()\n",
    "smallarr"
   ]
  },
  {
   "cell_type": "code",
   "execution_count": 132,
   "metadata": {},
   "outputs": [
    {
     "data": {
      "text/plain": [
       "array([[[7.70695838e-01, 2.13177843e-01, 8.84949056e-01],\n",
       "        [4.54165651e-01, 2.01487461e-01, 6.28688034e-01],\n",
       "        [8.40977584e-01, 1.33659653e-01, 8.70549132e-01],\n",
       "        [5.54727555e-01, 6.08380978e-02, 4.72616870e-05]],\n",
       "\n",
       "       [[1.37914757e-01, 3.60558780e-01, 3.62690668e-01],\n",
       "        [4.97244331e-01, 8.78733324e-02, 3.75103203e-01],\n",
       "        [9.15857362e-01, 2.10828923e-01, 9.80106916e-01],\n",
       "        [8.82958537e-01, 1.33732570e-01, 9.06283202e-01]],\n",
       "\n",
       "       [[9.75471200e-01, 5.54253555e-01, 5.23622053e-01],\n",
       "        [1.11292942e-01, 3.18870031e-01, 1.11337914e-01],\n",
       "        [9.34081445e-01, 1.43681470e-01, 9.13507275e-01],\n",
       "        [8.61122487e-01, 1.24577785e-01, 7.84532656e-01]]])"
      ]
     },
     "execution_count": 132,
     "metadata": {},
     "output_type": "execute_result"
    }
   ],
   "source": [
    "data = np.random.rand(3,4,3)\n",
    "data"
   ]
  },
  {
   "cell_type": "code",
   "execution_count": 133,
   "metadata": {},
   "outputs": [
    {
     "data": {
      "text/plain": [
       "array([[[2.13177843e-01, 7.70695838e-01, 8.84949056e-01],\n",
       "        [2.01487461e-01, 4.54165651e-01, 6.28688034e-01],\n",
       "        [1.33659653e-01, 8.40977584e-01, 8.70549132e-01],\n",
       "        [4.72616870e-05, 6.08380978e-02, 5.54727555e-01]],\n",
       "\n",
       "       [[1.37914757e-01, 3.60558780e-01, 3.62690668e-01],\n",
       "        [8.78733324e-02, 3.75103203e-01, 4.97244331e-01],\n",
       "        [2.10828923e-01, 9.15857362e-01, 9.80106916e-01],\n",
       "        [1.33732570e-01, 8.82958537e-01, 9.06283202e-01]],\n",
       "\n",
       "       [[5.23622053e-01, 5.54253555e-01, 9.75471200e-01],\n",
       "        [1.11292942e-01, 1.11337914e-01, 3.18870031e-01],\n",
       "        [1.43681470e-01, 9.13507275e-01, 9.34081445e-01],\n",
       "        [1.24577785e-01, 7.84532656e-01, 8.61122487e-01]]])"
      ]
     },
     "execution_count": 133,
     "metadata": {},
     "output_type": "execute_result"
    }
   ],
   "source": [
    "data.sort()  # sort işlemi rowlarda oluyor\n",
    "data"
   ]
  },
  {
   "cell_type": "code",
   "execution_count": 134,
   "metadata": {},
   "outputs": [
    {
     "data": {
      "text/plain": [
       "(3, 4, 3)"
      ]
     },
     "execution_count": 134,
     "metadata": {},
     "output_type": "execute_result"
    }
   ],
   "source": [
    "#reshape işlemi\n",
    "data.shape"
   ]
  },
  {
   "cell_type": "code",
   "execution_count": 135,
   "metadata": {},
   "outputs": [
    {
     "data": {
      "text/plain": [
       "(3, 2, 6)"
      ]
     },
     "execution_count": 135,
     "metadata": {},
     "output_type": "execute_result"
    }
   ],
   "source": [
    "data = data.reshape((3,2,-1))   #burdaki -1 oraya ne gelmesi gerekiyorsa koy demek, sadece 1 axis için koyulabilir\n",
    "data.shape"
   ]
  },
  {
   "cell_type": "code",
   "execution_count": 124,
   "metadata": {},
   "outputs": [
    {
     "data": {
      "text/plain": [
       "array([0., 0., 0., 0., 0., 0., 0., 0., 1., 1., 1.])"
      ]
     },
     "execution_count": 124,
     "metadata": {},
     "output_type": "execute_result"
    }
   ],
   "source": [
    "zeroes = np.zeros((8))\n",
    "data = np.append(zeroes,[1,1,1])\n",
    "data"
   ]
  },
  {
   "cell_type": "code",
   "execution_count": 130,
   "metadata": {},
   "outputs": [
    {
     "name": "stdout",
     "output_type": "stream",
     "text": [
      "[[[0.01335323 0.33681207 0.09737315 0.72420915]\n",
      "  [0.98053965 0.91275954 0.63566186 0.29530734]\n",
      "  [0.57760142 0.51018129 0.58256361 0.41890255]]\n",
      "\n",
      " [[0.21680507 0.4116039  0.6023704  0.93610095]\n",
      "  [0.46189798 0.76119271 0.70978352 0.16205627]\n",
      "  [0.1175312  0.97851291 0.84057825 0.53917686]]]\n",
      "[0.01335323 0.33681207 0.09737315 0.72420915 0.98053965 0.91275954\n",
      " 0.63566186 0.29530734 0.57760142 0.51018129 0.58256361 0.41890255\n",
      " 0.21680507 0.4116039  0.6023704  0.93610095 0.46189798 0.76119271\n",
      " 0.70978352 0.16205627 0.1175312  0.97851291 0.84057825 0.53917686\n",
      " 0.         0.         0.         0.         0.         0.\n",
      " 0.         0.         0.         0.        ]\n"
     ]
    }
   ],
   "source": [
    "zeroes = np.zeros((10))\n",
    "data = np.random.rand(2,3,4)\n",
    "print(data)\n",
    "data  = np.append(data,zeroes)\n",
    "print(data)\n",
    "\n",
    "#farklı shapedeki appendleyince, ilk arrayi de ikincinin shapine getirip ekliyor\n"
   ]
  },
  {
   "cell_type": "markdown",
   "metadata": {},
   "source": [
    "## 4. Delete"
   ]
  },
  {
   "cell_type": "code",
   "execution_count": 7,
   "metadata": {},
   "outputs": [],
   "source": [
    "data = np.array(\n",
    "[\n",
    "    [\n",
    "        [7,4,4,2,0],\n",
    "        [2,8,0,0,0],\n",
    "        [0,9,4,6,3],\n",
    "        [3,7,4,6,9]\n",
    "    ],\n",
    "    [\n",
    "        [0,9,3,6,2],\n",
    "        [8,8,5,6,0],\n",
    "        [5,4,3,6,8],\n",
    "        [2,9,2,9,1]\n",
    "    ],\n",
    "    [\n",
    "        [3,4,2,1,3],\n",
    "        [5,4,8,5,4],\n",
    "        [7,5,1,3,1],\n",
    "        [3,9,9,0,3]\n",
    "    ]\n",
    "])\n"
   ]
  },
  {
   "cell_type": "code",
   "execution_count": 8,
   "metadata": {},
   "outputs": [
    {
     "data": {
      "text/plain": [
       "(3, 4, 5)"
      ]
     },
     "execution_count": 8,
     "metadata": {},
     "output_type": "execute_result"
    }
   ],
   "source": [
    "data.shape"
   ]
  },
  {
   "attachments": {
    "image.png": {
     "image/png": "[encoded data removed]"
    }
   },
   "cell_type": "markdown",
   "metadata": {},
   "source": [
    "![image.png](attachment:image.png)\n",
    "\n",
    "link : https://www.youtube.com/watch?v=XC_j0cr_a8U&ab_channel=RandomPearls"
   ]
  },
  {
   "cell_type": "markdown",
   "metadata": {},
   "source": [
    "z axis -> axis 0  \n",
    "x axis -> axis 2  \n",
    "y axis -> axis 1"
   ]
  },
  {
   "cell_type": "markdown",
   "metadata": {},
   "source": [
    "y nin index sıralaması şöyle gidiyor : ... 2, 1, 0  origin  \n",
    "x in index sıralaması şöyle gidiyor : origin 0, 1, 2 ...  \n",
    "z nin index sıralaması şöyle gidiyor : origin ... 2, 1, 0"
   ]
  },
  {
   "cell_type": "code",
   "execution_count": 9,
   "metadata": {},
   "outputs": [
    {
     "name": "stdout",
     "output_type": "stream",
     "text": [
      "[[[2 8 0 0 0]\n",
      "  [0 9 4 6 3]\n",
      "  [3 7 4 6 9]]\n",
      "\n",
      " [[8 8 5 6 0]\n",
      "  [5 4 3 6 8]\n",
      "  [2 9 2 9 1]]\n",
      "\n",
      " [[5 4 8 5 4]\n",
      "  [7 5 1 3 1]\n",
      "  [3 9 9 0 3]]]\n",
      "(3, 3, 5)\n"
     ]
    }
   ],
   "source": [
    "data = np.delete(data, 0, axis=1)\n",
    "print(data)\n",
    "print(data.shape)\n",
    "\n",
    "#this deletes 0.idx of y axis"
   ]
  },
  {
   "cell_type": "code",
   "execution_count": 10,
   "metadata": {},
   "outputs": [
    {
     "name": "stdout",
     "output_type": "stream",
     "text": [
      "[[[8 0 0 0]\n",
      "  [9 4 6 3]\n",
      "  [7 4 6 9]]\n",
      "\n",
      " [[8 5 6 0]\n",
      "  [4 3 6 8]\n",
      "  [9 2 9 1]]\n",
      "\n",
      " [[4 8 5 4]\n",
      "  [5 1 3 1]\n",
      "  [9 9 0 3]]]\n",
      "(3, 3, 4)\n"
     ]
    }
   ],
   "source": [
    "data = np.delete(data, 0, axis=2)\n",
    "print(data)\n",
    "print(data.shape)\n",
    "#this deletes 1.idx of x axis"
   ]
  },
  {
   "cell_type": "code",
   "execution_count": 11,
   "metadata": {},
   "outputs": [
    {
     "name": "stdout",
     "output_type": "stream",
     "text": [
      "[[[8 5 6 0]\n",
      "  [4 3 6 8]\n",
      "  [9 2 9 1]]\n",
      "\n",
      " [[4 8 5 4]\n",
      "  [5 1 3 1]\n",
      "  [9 9 0 3]]]\n",
      "(2, 3, 4)\n"
     ]
    }
   ],
   "source": [
    "data = np.delete(data, 0, axis=0)\n",
    "print(data)\n",
    "print(data.shape)"
   ]
  },
  {
   "cell_type": "code",
   "execution_count": 3,
   "metadata": {},
   "outputs": [],
   "source": [
    "data = np.random.rand(2390, 257)"
   ]
  },
  {
   "cell_type": "code",
   "execution_count": 28,
   "metadata": {},
   "outputs": [
    {
     "name": "stdout",
     "output_type": "stream",
     "text": [
      "(2390, 257, 1)\n"
     ]
    }
   ],
   "source": [
    "import numpy as np\n",
    "\n",
    "# Example array\n",
    "array = np.random.rand(2390, 257)\n",
    "\n",
    "# Adding a new axis at position 2\n",
    "new_array = np.expand_dims(array, axis=2)\n",
    "print(new_array.shape)  # Output: (2390, 257, 1)\n"
   ]
  },
  {
   "cell_type": "code",
   "execution_count": null,
   "metadata": {},
   "outputs": [],
   "source": [
    "# Adding a new axis at position 2\n",
    "new_array = np.expand_dims(array, axis=0)\n",
    "print(new_array.shape)  # Output: (2390, 257, 1)"
   ]
  },
  {
   "cell_type": "markdown",
   "metadata": {},
   "source": [
    "## Pandas Hakkında"
   ]
  },
  {
   "cell_type": "markdown",
   "metadata": {},
   "source": [
    "### 1.Create\n",
    "\n",
    "Dataframe oluşturmanın iki yolu var:\n",
    "- csv den okumak\n",
    "- dictionary den okumak"
   ]
  },
  {
   "cell_type": "code",
   "execution_count": 2,
   "metadata": {},
   "outputs": [],
   "source": [
    "import pandas as pd"
   ]
  },
  {
   "cell_type": "code",
   "execution_count": 3,
   "metadata": {},
   "outputs": [],
   "source": [
    "dir = r\"C:\\Users\\LocalAdmin\\Desktop\\sens3 data\\Sliding_Friction-roughness\\part1\\ir_pos\\Material1.csv\""
   ]
  },
  {
   "cell_type": "code",
   "execution_count": 4,
   "metadata": {},
   "outputs": [],
   "source": [
    "df = pd.read_csv(dir)"
   ]
  },
  {
   "cell_type": "code",
   "execution_count": 7,
   "metadata": {},
   "outputs": [
    {
     "data": {
      "text/html": [
       "<div>\n",
       "<style scoped>\n",
       "    .dataframe tbody tr th:only-of-type {\n",
       "        vertical-align: middle;\n",
       "    }\n",
       "\n",
       "    .dataframe tbody tr th {\n",
       "        vertical-align: top;\n",
       "    }\n",
       "\n",
       "    .dataframe thead th {\n",
       "        text-align: right;\n",
       "    }\n",
       "</style>\n",
       "<table border=\"1\" class=\"dataframe\">\n",
       "  <thead>\n",
       "    <tr style=\"text-align: right;\">\n",
       "      <th></th>\n",
       "      <th>0.017951</th>\n",
       "      <th>0.000000</th>\n",
       "      <th>10.890000</th>\n",
       "      <th>35.237037</th>\n",
       "    </tr>\n",
       "  </thead>\n",
       "  <tbody>\n",
       "    <tr>\n",
       "      <th>0</th>\n",
       "      <td>0.034906</td>\n",
       "      <td>0.0</td>\n",
       "      <td>10.89</td>\n",
       "      <td>35.237037</td>\n",
       "    </tr>\n",
       "    <tr>\n",
       "      <th>1</th>\n",
       "      <td>0.051861</td>\n",
       "      <td>0.0</td>\n",
       "      <td>10.89</td>\n",
       "      <td>35.237037</td>\n",
       "    </tr>\n",
       "    <tr>\n",
       "      <th>2</th>\n",
       "      <td>0.068402</td>\n",
       "      <td>0.0</td>\n",
       "      <td>10.89</td>\n",
       "      <td>35.237037</td>\n",
       "    </tr>\n",
       "    <tr>\n",
       "      <th>3</th>\n",
       "      <td>0.085355</td>\n",
       "      <td>0.0</td>\n",
       "      <td>10.89</td>\n",
       "      <td>35.237037</td>\n",
       "    </tr>\n",
       "    <tr>\n",
       "      <th>4</th>\n",
       "      <td>0.103307</td>\n",
       "      <td>0.0</td>\n",
       "      <td>10.89</td>\n",
       "      <td>35.237037</td>\n",
       "    </tr>\n",
       "  </tbody>\n",
       "</table>\n",
       "</div>"
      ],
      "text/plain": [
       "   0.017951  0.000000  10.890000  35.237037\n",
       "0  0.034906       0.0      10.89  35.237037\n",
       "1  0.051861       0.0      10.89  35.237037\n",
       "2  0.068402       0.0      10.89  35.237037\n",
       "3  0.085355       0.0      10.89  35.237037\n",
       "4  0.103307       0.0      10.89  35.237037"
      ]
     },
     "execution_count": 7,
     "metadata": {},
     "output_type": "execute_result"
    }
   ],
   "source": [
    "df.head()  #parametre passlemeden kullanınca ilk 5 row u verir"
   ]
  },
  {
   "cell_type": "code",
   "execution_count": 5,
   "metadata": {},
   "outputs": [
    {
     "data": {
      "text/html": [
       "<div>\n",
       "<style scoped>\n",
       "    .dataframe tbody tr th:only-of-type {\n",
       "        vertical-align: middle;\n",
       "    }\n",
       "\n",
       "    .dataframe tbody tr th {\n",
       "        vertical-align: top;\n",
       "    }\n",
       "\n",
       "    .dataframe thead th {\n",
       "        text-align: right;\n",
       "    }\n",
       "</style>\n",
       "<table border=\"1\" class=\"dataframe\">\n",
       "  <thead>\n",
       "    <tr style=\"text-align: right;\">\n",
       "      <th></th>\n",
       "      <th>0.017951</th>\n",
       "      <th>0.000000</th>\n",
       "      <th>10.890000</th>\n",
       "      <th>35.237037</th>\n",
       "    </tr>\n",
       "  </thead>\n",
       "  <tbody>\n",
       "    <tr>\n",
       "      <th>0</th>\n",
       "      <td>0.034906</td>\n",
       "      <td>0.0</td>\n",
       "      <td>10.89</td>\n",
       "      <td>35.237037</td>\n",
       "    </tr>\n",
       "    <tr>\n",
       "      <th>1</th>\n",
       "      <td>0.051861</td>\n",
       "      <td>0.0</td>\n",
       "      <td>10.89</td>\n",
       "      <td>35.237037</td>\n",
       "    </tr>\n",
       "    <tr>\n",
       "      <th>2</th>\n",
       "      <td>0.068402</td>\n",
       "      <td>0.0</td>\n",
       "      <td>10.89</td>\n",
       "      <td>35.237037</td>\n",
       "    </tr>\n",
       "    <tr>\n",
       "      <th>3</th>\n",
       "      <td>0.085355</td>\n",
       "      <td>0.0</td>\n",
       "      <td>10.89</td>\n",
       "      <td>35.237037</td>\n",
       "    </tr>\n",
       "    <tr>\n",
       "      <th>4</th>\n",
       "      <td>0.103307</td>\n",
       "      <td>0.0</td>\n",
       "      <td>10.89</td>\n",
       "      <td>35.237037</td>\n",
       "    </tr>\n",
       "    <tr>\n",
       "      <th>5</th>\n",
       "      <td>0.119265</td>\n",
       "      <td>0.0</td>\n",
       "      <td>10.89</td>\n",
       "      <td>35.237037</td>\n",
       "    </tr>\n",
       "    <tr>\n",
       "      <th>6</th>\n",
       "      <td>0.136219</td>\n",
       "      <td>0.0</td>\n",
       "      <td>10.89</td>\n",
       "      <td>35.237037</td>\n",
       "    </tr>\n",
       "    <tr>\n",
       "      <th>7</th>\n",
       "      <td>0.153175</td>\n",
       "      <td>0.0</td>\n",
       "      <td>10.89</td>\n",
       "      <td>35.237037</td>\n",
       "    </tr>\n",
       "    <tr>\n",
       "      <th>8</th>\n",
       "      <td>0.169132</td>\n",
       "      <td>0.0</td>\n",
       "      <td>10.89</td>\n",
       "      <td>35.237037</td>\n",
       "    </tr>\n",
       "    <tr>\n",
       "      <th>9</th>\n",
       "      <td>0.185090</td>\n",
       "      <td>0.0</td>\n",
       "      <td>10.89</td>\n",
       "      <td>35.237037</td>\n",
       "    </tr>\n",
       "  </tbody>\n",
       "</table>\n",
       "</div>"
      ],
      "text/plain": [
       "   0.017951  0.000000  10.890000  35.237037\n",
       "0  0.034906       0.0      10.89  35.237037\n",
       "1  0.051861       0.0      10.89  35.237037\n",
       "2  0.068402       0.0      10.89  35.237037\n",
       "3  0.085355       0.0      10.89  35.237037\n",
       "4  0.103307       0.0      10.89  35.237037\n",
       "5  0.119265       0.0      10.89  35.237037\n",
       "6  0.136219       0.0      10.89  35.237037\n",
       "7  0.153175       0.0      10.89  35.237037\n",
       "8  0.169132       0.0      10.89  35.237037\n",
       "9  0.185090       0.0      10.89  35.237037"
      ]
     },
     "execution_count": 5,
     "metadata": {},
     "output_type": "execute_result"
    }
   ],
   "source": [
    "df.head(10)  #bu şekilde parametre passlayabiliriz"
   ]
  },
  {
   "cell_type": "markdown",
   "metadata": {},
   "source": [
    "ilk row index 0 dır"
   ]
  },
  {
   "cell_type": "code",
   "execution_count": 8,
   "metadata": {},
   "outputs": [
    {
     "data": {
      "text/html": [
       "<div>\n",
       "<style scoped>\n",
       "    .dataframe tbody tr th:only-of-type {\n",
       "        vertical-align: middle;\n",
       "    }\n",
       "\n",
       "    .dataframe tbody tr th {\n",
       "        vertical-align: top;\n",
       "    }\n",
       "\n",
       "    .dataframe thead th {\n",
       "        text-align: right;\n",
       "    }\n",
       "</style>\n",
       "<table border=\"1\" class=\"dataframe\">\n",
       "  <thead>\n",
       "    <tr style=\"text-align: right;\">\n",
       "      <th></th>\n",
       "      <th>0.017951</th>\n",
       "      <th>0.000000</th>\n",
       "      <th>10.890000</th>\n",
       "      <th>35.237037</th>\n",
       "    </tr>\n",
       "  </thead>\n",
       "  <tbody>\n",
       "    <tr>\n",
       "      <th>41352</th>\n",
       "      <td>694.814619</td>\n",
       "      <td>0.0</td>\n",
       "      <td>71.28</td>\n",
       "      <td>77.174074</td>\n",
       "    </tr>\n",
       "    <tr>\n",
       "      <th>41353</th>\n",
       "      <td>694.830858</td>\n",
       "      <td>0.0</td>\n",
       "      <td>71.28</td>\n",
       "      <td>77.174074</td>\n",
       "    </tr>\n",
       "    <tr>\n",
       "      <th>41354</th>\n",
       "      <td>694.847929</td>\n",
       "      <td>0.0</td>\n",
       "      <td>71.28</td>\n",
       "      <td>77.174074</td>\n",
       "    </tr>\n",
       "    <tr>\n",
       "      <th>41355</th>\n",
       "      <td>694.865003</td>\n",
       "      <td>0.0</td>\n",
       "      <td>71.28</td>\n",
       "      <td>77.174074</td>\n",
       "    </tr>\n",
       "    <tr>\n",
       "      <th>41356</th>\n",
       "      <td>694.887056</td>\n",
       "      <td>0.0</td>\n",
       "      <td>71.28</td>\n",
       "      <td>77.174074</td>\n",
       "    </tr>\n",
       "  </tbody>\n",
       "</table>\n",
       "</div>"
      ],
      "text/plain": [
       "         0.017951  0.000000  10.890000  35.237037\n",
       "41352  694.814619       0.0      71.28  77.174074\n",
       "41353  694.830858       0.0      71.28  77.174074\n",
       "41354  694.847929       0.0      71.28  77.174074\n",
       "41355  694.865003       0.0      71.28  77.174074\n",
       "41356  694.887056       0.0      71.28  77.174074"
      ]
     },
     "execution_count": 8,
     "metadata": {},
     "output_type": "execute_result"
    }
   ],
   "source": [
    "df.tail()   #bu da bottom 5 row u verir"
   ]
  },
  {
   "cell_type": "code",
   "execution_count": 9,
   "metadata": {},
   "outputs": [
    {
     "data": {
      "text/html": [
       "<div>\n",
       "<style scoped>\n",
       "    .dataframe tbody tr th:only-of-type {\n",
       "        vertical-align: middle;\n",
       "    }\n",
       "\n",
       "    .dataframe tbody tr th {\n",
       "        vertical-align: top;\n",
       "    }\n",
       "\n",
       "    .dataframe thead th {\n",
       "        text-align: right;\n",
       "    }\n",
       "</style>\n",
       "<table border=\"1\" class=\"dataframe\">\n",
       "  <thead>\n",
       "    <tr style=\"text-align: right;\">\n",
       "      <th></th>\n",
       "      <th>0.017951</th>\n",
       "      <th>0.000000</th>\n",
       "      <th>10.890000</th>\n",
       "      <th>35.237037</th>\n",
       "    </tr>\n",
       "  </thead>\n",
       "  <tbody>\n",
       "    <tr>\n",
       "      <th>41347</th>\n",
       "      <td>694.734563</td>\n",
       "      <td>0.0</td>\n",
       "      <td>71.28</td>\n",
       "      <td>77.174074</td>\n",
       "    </tr>\n",
       "    <tr>\n",
       "      <th>41348</th>\n",
       "      <td>694.750450</td>\n",
       "      <td>0.0</td>\n",
       "      <td>71.28</td>\n",
       "      <td>77.174074</td>\n",
       "    </tr>\n",
       "    <tr>\n",
       "      <th>41349</th>\n",
       "      <td>694.766478</td>\n",
       "      <td>0.0</td>\n",
       "      <td>71.28</td>\n",
       "      <td>77.174074</td>\n",
       "    </tr>\n",
       "    <tr>\n",
       "      <th>41350</th>\n",
       "      <td>694.782479</td>\n",
       "      <td>0.0</td>\n",
       "      <td>71.28</td>\n",
       "      <td>77.174074</td>\n",
       "    </tr>\n",
       "    <tr>\n",
       "      <th>41351</th>\n",
       "      <td>694.798479</td>\n",
       "      <td>0.0</td>\n",
       "      <td>71.28</td>\n",
       "      <td>77.174074</td>\n",
       "    </tr>\n",
       "    <tr>\n",
       "      <th>41352</th>\n",
       "      <td>694.814619</td>\n",
       "      <td>0.0</td>\n",
       "      <td>71.28</td>\n",
       "      <td>77.174074</td>\n",
       "    </tr>\n",
       "    <tr>\n",
       "      <th>41353</th>\n",
       "      <td>694.830858</td>\n",
       "      <td>0.0</td>\n",
       "      <td>71.28</td>\n",
       "      <td>77.174074</td>\n",
       "    </tr>\n",
       "    <tr>\n",
       "      <th>41354</th>\n",
       "      <td>694.847929</td>\n",
       "      <td>0.0</td>\n",
       "      <td>71.28</td>\n",
       "      <td>77.174074</td>\n",
       "    </tr>\n",
       "    <tr>\n",
       "      <th>41355</th>\n",
       "      <td>694.865003</td>\n",
       "      <td>0.0</td>\n",
       "      <td>71.28</td>\n",
       "      <td>77.174074</td>\n",
       "    </tr>\n",
       "    <tr>\n",
       "      <th>41356</th>\n",
       "      <td>694.887056</td>\n",
       "      <td>0.0</td>\n",
       "      <td>71.28</td>\n",
       "      <td>77.174074</td>\n",
       "    </tr>\n",
       "  </tbody>\n",
       "</table>\n",
       "</div>"
      ],
      "text/plain": [
       "         0.017951  0.000000  10.890000  35.237037\n",
       "41347  694.734563       0.0      71.28  77.174074\n",
       "41348  694.750450       0.0      71.28  77.174074\n",
       "41349  694.766478       0.0      71.28  77.174074\n",
       "41350  694.782479       0.0      71.28  77.174074\n",
       "41351  694.798479       0.0      71.28  77.174074\n",
       "41352  694.814619       0.0      71.28  77.174074\n",
       "41353  694.830858       0.0      71.28  77.174074\n",
       "41354  694.847929       0.0      71.28  77.174074\n",
       "41355  694.865003       0.0      71.28  77.174074\n",
       "41356  694.887056       0.0      71.28  77.174074"
      ]
     },
     "execution_count": 9,
     "metadata": {},
     "output_type": "execute_result"
    }
   ],
   "source": [
    "df.tail(10)  #bottom 10 rows"
   ]
  },
  {
   "cell_type": "markdown",
   "metadata": {},
   "source": [
    "bu methodlarda tüm columnlar görünmeyebilir, tüm columnları görmel istiyorsak şunu yaparız"
   ]
  },
  {
   "cell_type": "code",
   "execution_count": 11,
   "metadata": {},
   "outputs": [
    {
     "data": {
      "text/plain": [
       "Index(['0.017951', '0.000000', '10.890000', '35.237037'], dtype='object')"
      ]
     },
     "execution_count": 11,
     "metadata": {},
     "output_type": "execute_result"
    }
   ],
   "source": [
    "df.columns        #bu şekilde tüm columnları görürüz"
   ]
  },
  {
   "cell_type": "code",
   "execution_count": 12,
   "metadata": {},
   "outputs": [
    {
     "data": {
      "text/plain": [
       "0.017951     float64\n",
       "0.000000     float64\n",
       "10.890000    float64\n",
       "35.237037    float64\n",
       "dtype: object"
      ]
     },
     "execution_count": 12,
     "metadata": {},
     "output_type": "execute_result"
    }
   ],
   "source": [
    "df.dtypes         #bu şekilde de data type ları görürürz"
   ]
  },
  {
   "cell_type": "markdown",
   "metadata": {},
   "source": [
    "### Summary Statistics"
   ]
  },
  {
   "cell_type": "markdown",
   "metadata": {},
   "source": [
    "verilerin nasıl dağıldığını görmek için descibe methodunu kullanırız. fakat bu methodun parametre vrilemden kullanıldığında sadece float ve int type columnlarının analizini yapar. object type ların analizini yapmak istiyorsak ona paramaetre passlamalıyız"
   ]
  },
  {
   "cell_type": "code",
   "execution_count": 13,
   "metadata": {},
   "outputs": [
    {
     "data": {
      "text/html": [
       "<div>\n",
       "<style scoped>\n",
       "    .dataframe tbody tr th:only-of-type {\n",
       "        vertical-align: middle;\n",
       "    }\n",
       "\n",
       "    .dataframe tbody tr th {\n",
       "        vertical-align: top;\n",
       "    }\n",
       "\n",
       "    .dataframe thead th {\n",
       "        text-align: right;\n",
       "    }\n",
       "</style>\n",
       "<table border=\"1\" class=\"dataframe\">\n",
       "  <thead>\n",
       "    <tr style=\"text-align: right;\">\n",
       "      <th></th>\n",
       "      <th>0.017951</th>\n",
       "      <th>0.000000</th>\n",
       "      <th>10.890000</th>\n",
       "      <th>35.237037</th>\n",
       "    </tr>\n",
       "  </thead>\n",
       "  <tbody>\n",
       "    <tr>\n",
       "      <th>count</th>\n",
       "      <td>41357.000000</td>\n",
       "      <td>41357.000000</td>\n",
       "      <td>41357.000000</td>\n",
       "      <td>41357.000000</td>\n",
       "    </tr>\n",
       "    <tr>\n",
       "      <th>mean</th>\n",
       "      <td>347.561890</td>\n",
       "      <td>114.456869</td>\n",
       "      <td>84.498678</td>\n",
       "      <td>64.704193</td>\n",
       "    </tr>\n",
       "    <tr>\n",
       "      <th>std</th>\n",
       "      <td>200.565137</td>\n",
       "      <td>118.279496</td>\n",
       "      <td>16.666696</td>\n",
       "      <td>14.405217</td>\n",
       "    </tr>\n",
       "    <tr>\n",
       "      <th>min</th>\n",
       "      <td>0.034906</td>\n",
       "      <td>0.000000</td>\n",
       "      <td>10.890000</td>\n",
       "      <td>20.348148</td>\n",
       "    </tr>\n",
       "    <tr>\n",
       "      <th>25%</th>\n",
       "      <td>173.933549</td>\n",
       "      <td>35.153269</td>\n",
       "      <td>72.517500</td>\n",
       "      <td>54.344444</td>\n",
       "    </tr>\n",
       "    <tr>\n",
       "      <th>50%</th>\n",
       "      <td>347.632784</td>\n",
       "      <td>81.896394</td>\n",
       "      <td>84.892500</td>\n",
       "      <td>64.394444</td>\n",
       "    </tr>\n",
       "    <tr>\n",
       "      <th>75%</th>\n",
       "      <td>521.272722</td>\n",
       "      <td>158.225312</td>\n",
       "      <td>97.020000</td>\n",
       "      <td>74.444444</td>\n",
       "    </tr>\n",
       "    <tr>\n",
       "      <th>max</th>\n",
       "      <td>694.887056</td>\n",
       "      <td>5775.411909</td>\n",
       "      <td>131.010000</td>\n",
       "      <td>115.016667</td>\n",
       "    </tr>\n",
       "  </tbody>\n",
       "</table>\n",
       "</div>"
      ],
      "text/plain": [
       "           0.017951      0.000000     10.890000     35.237037\n",
       "count  41357.000000  41357.000000  41357.000000  41357.000000\n",
       "mean     347.561890    114.456869     84.498678     64.704193\n",
       "std      200.565137    118.279496     16.666696     14.405217\n",
       "min        0.034906      0.000000     10.890000     20.348148\n",
       "25%      173.933549     35.153269     72.517500     54.344444\n",
       "50%      347.632784     81.896394     84.892500     64.394444\n",
       "75%      521.272722    158.225312     97.020000     74.444444\n",
       "max      694.887056   5775.411909    131.010000    115.016667"
      ]
     },
     "execution_count": 13,
     "metadata": {},
     "output_type": "execute_result"
    }
   ],
   "source": [
    "df.describe()"
   ]
  },
  {
   "cell_type": "code",
   "execution_count": 14,
   "metadata": {},
   "outputs": [
    {
     "ename": "ValueError",
     "evalue": "No objects to concatenate",
     "output_type": "error",
     "traceback": [
      "\u001b[1;31m---------------------------------------------------------------------------\u001b[0m",
      "\u001b[1;31mValueError\u001b[0m                                Traceback (most recent call last)",
      "Cell \u001b[1;32mIn[14], line 1\u001b[0m\n\u001b[1;32m----> 1\u001b[0m \u001b[43mdf\u001b[49m\u001b[38;5;241;43m.\u001b[39;49m\u001b[43mdescribe\u001b[49m\u001b[43m(\u001b[49m\u001b[43minclude\u001b[49m\u001b[38;5;241;43m=\u001b[39;49m\u001b[38;5;124;43m'\u001b[39;49m\u001b[38;5;124;43mobject\u001b[39;49m\u001b[38;5;124;43m'\u001b[39;49m\u001b[43m)\u001b[49m\n",
      "File \u001b[1;32m~\\AppData\\Local\\Packages\\PythonSoftwareFoundation.Python.3.10_qbz5n2kfra8p0\\LocalCache\\local-packages\\Python310\\site-packages\\pandas\\core\\generic.py:10940\u001b[0m, in \u001b[0;36mNDFrame.describe\u001b[1;34m(self, percentiles, include, exclude, datetime_is_numeric)\u001b[0m\n\u001b[0;32m  10691\u001b[0m \u001b[38;5;129m@final\u001b[39m\n\u001b[0;32m  10692\u001b[0m \u001b[38;5;28;01mdef\u001b[39;00m \u001b[38;5;21mdescribe\u001b[39m(\n\u001b[0;32m  10693\u001b[0m     \u001b[38;5;28mself\u001b[39m: NDFrameT,\n\u001b[1;32m   (...)\u001b[0m\n\u001b[0;32m  10697\u001b[0m     datetime_is_numeric: bool_t \u001b[38;5;241m=\u001b[39m \u001b[38;5;28;01mFalse\u001b[39;00m,\n\u001b[0;32m  10698\u001b[0m ) \u001b[38;5;241m-\u001b[39m\u001b[38;5;241m>\u001b[39m NDFrameT:\n\u001b[0;32m  10699\u001b[0m \u001b[38;5;250m    \u001b[39m\u001b[38;5;124;03m\"\"\"\u001b[39;00m\n\u001b[0;32m  10700\u001b[0m \u001b[38;5;124;03m    Generate descriptive statistics.\u001b[39;00m\n\u001b[0;32m  10701\u001b[0m \n\u001b[1;32m   (...)\u001b[0m\n\u001b[0;32m  10938\u001b[0m \u001b[38;5;124;03m    max            NaN      3.0\u001b[39;00m\n\u001b[0;32m  10939\u001b[0m \u001b[38;5;124;03m    \"\"\"\u001b[39;00m\n\u001b[1;32m> 10940\u001b[0m     \u001b[38;5;28;01mreturn\u001b[39;00m \u001b[43mdescribe_ndframe\u001b[49m\u001b[43m(\u001b[49m\n\u001b[0;32m  10941\u001b[0m \u001b[43m        \u001b[49m\u001b[43mobj\u001b[49m\u001b[38;5;241;43m=\u001b[39;49m\u001b[38;5;28;43mself\u001b[39;49m\u001b[43m,\u001b[49m\n\u001b[0;32m  10942\u001b[0m \u001b[43m        \u001b[49m\u001b[43minclude\u001b[49m\u001b[38;5;241;43m=\u001b[39;49m\u001b[43minclude\u001b[49m\u001b[43m,\u001b[49m\n\u001b[0;32m  10943\u001b[0m \u001b[43m        \u001b[49m\u001b[43mexclude\u001b[49m\u001b[38;5;241;43m=\u001b[39;49m\u001b[43mexclude\u001b[49m\u001b[43m,\u001b[49m\n\u001b[0;32m  10944\u001b[0m \u001b[43m        \u001b[49m\u001b[43mdatetime_is_numeric\u001b[49m\u001b[38;5;241;43m=\u001b[39;49m\u001b[43mdatetime_is_numeric\u001b[49m\u001b[43m,\u001b[49m\n\u001b[0;32m  10945\u001b[0m \u001b[43m        \u001b[49m\u001b[43mpercentiles\u001b[49m\u001b[38;5;241;43m=\u001b[39;49m\u001b[43mpercentiles\u001b[49m\u001b[43m,\u001b[49m\n\u001b[0;32m  10946\u001b[0m \u001b[43m    \u001b[49m\u001b[43m)\u001b[49m\n",
      "File \u001b[1;32m~\\AppData\\Local\\Packages\\PythonSoftwareFoundation.Python.3.10_qbz5n2kfra8p0\\LocalCache\\local-packages\\Python310\\site-packages\\pandas\\core\\describe.py:101\u001b[0m, in \u001b[0;36mdescribe_ndframe\u001b[1;34m(obj, include, exclude, datetime_is_numeric, percentiles)\u001b[0m\n\u001b[0;32m     93\u001b[0m \u001b[38;5;28;01melse\u001b[39;00m:\n\u001b[0;32m     94\u001b[0m     describer \u001b[38;5;241m=\u001b[39m DataFrameDescriber(\n\u001b[0;32m     95\u001b[0m         obj\u001b[38;5;241m=\u001b[39mcast(\u001b[38;5;124m\"\u001b[39m\u001b[38;5;124mDataFrame\u001b[39m\u001b[38;5;124m\"\u001b[39m, obj),\n\u001b[0;32m     96\u001b[0m         include\u001b[38;5;241m=\u001b[39minclude,\n\u001b[0;32m     97\u001b[0m         exclude\u001b[38;5;241m=\u001b[39mexclude,\n\u001b[0;32m     98\u001b[0m         datetime_is_numeric\u001b[38;5;241m=\u001b[39mdatetime_is_numeric,\n\u001b[0;32m     99\u001b[0m     )\n\u001b[1;32m--> 101\u001b[0m result \u001b[38;5;241m=\u001b[39m \u001b[43mdescriber\u001b[49m\u001b[38;5;241;43m.\u001b[39;49m\u001b[43mdescribe\u001b[49m\u001b[43m(\u001b[49m\u001b[43mpercentiles\u001b[49m\u001b[38;5;241;43m=\u001b[39;49m\u001b[43mpercentiles\u001b[49m\u001b[43m)\u001b[49m\n\u001b[0;32m    102\u001b[0m \u001b[38;5;28;01mreturn\u001b[39;00m cast(NDFrameT, result)\n",
      "File \u001b[1;32m~\\AppData\\Local\\Packages\\PythonSoftwareFoundation.Python.3.10_qbz5n2kfra8p0\\LocalCache\\local-packages\\Python310\\site-packages\\pandas\\core\\describe.py:184\u001b[0m, in \u001b[0;36mDataFrameDescriber.describe\u001b[1;34m(self, percentiles)\u001b[0m\n\u001b[0;32m    181\u001b[0m     ldesc\u001b[38;5;241m.\u001b[39mappend(describe_func(series, percentiles))\n\u001b[0;32m    183\u001b[0m col_names \u001b[38;5;241m=\u001b[39m reorder_columns(ldesc)\n\u001b[1;32m--> 184\u001b[0m d \u001b[38;5;241m=\u001b[39m \u001b[43mconcat\u001b[49m\u001b[43m(\u001b[49m\n\u001b[0;32m    185\u001b[0m \u001b[43m    \u001b[49m\u001b[43m[\u001b[49m\u001b[43mx\u001b[49m\u001b[38;5;241;43m.\u001b[39;49m\u001b[43mreindex\u001b[49m\u001b[43m(\u001b[49m\u001b[43mcol_names\u001b[49m\u001b[43m,\u001b[49m\u001b[43m \u001b[49m\u001b[43mcopy\u001b[49m\u001b[38;5;241;43m=\u001b[39;49m\u001b[38;5;28;43;01mFalse\u001b[39;49;00m\u001b[43m)\u001b[49m\u001b[43m \u001b[49m\u001b[38;5;28;43;01mfor\u001b[39;49;00m\u001b[43m \u001b[49m\u001b[43mx\u001b[49m\u001b[43m \u001b[49m\u001b[38;5;129;43;01min\u001b[39;49;00m\u001b[43m \u001b[49m\u001b[43mldesc\u001b[49m\u001b[43m]\u001b[49m\u001b[43m,\u001b[49m\n\u001b[0;32m    186\u001b[0m \u001b[43m    \u001b[49m\u001b[43maxis\u001b[49m\u001b[38;5;241;43m=\u001b[39;49m\u001b[38;5;241;43m1\u001b[39;49m\u001b[43m,\u001b[49m\n\u001b[0;32m    187\u001b[0m \u001b[43m    \u001b[49m\u001b[43msort\u001b[49m\u001b[38;5;241;43m=\u001b[39;49m\u001b[38;5;28;43;01mFalse\u001b[39;49;00m\u001b[43m,\u001b[49m\n\u001b[0;32m    188\u001b[0m \u001b[43m\u001b[49m\u001b[43m)\u001b[49m\n\u001b[0;32m    189\u001b[0m d\u001b[38;5;241m.\u001b[39mcolumns \u001b[38;5;241m=\u001b[39m data\u001b[38;5;241m.\u001b[39mcolumns\u001b[38;5;241m.\u001b[39mcopy()\n\u001b[0;32m    190\u001b[0m \u001b[38;5;28;01mreturn\u001b[39;00m d\n",
      "File \u001b[1;32m~\\AppData\\Local\\Packages\\PythonSoftwareFoundation.Python.3.10_qbz5n2kfra8p0\\LocalCache\\local-packages\\Python310\\site-packages\\pandas\\util\\_decorators.py:331\u001b[0m, in \u001b[0;36mdeprecate_nonkeyword_arguments.<locals>.decorate.<locals>.wrapper\u001b[1;34m(*args, **kwargs)\u001b[0m\n\u001b[0;32m    325\u001b[0m \u001b[38;5;28;01mif\u001b[39;00m \u001b[38;5;28mlen\u001b[39m(args) \u001b[38;5;241m>\u001b[39m num_allow_args:\n\u001b[0;32m    326\u001b[0m     warnings\u001b[38;5;241m.\u001b[39mwarn(\n\u001b[0;32m    327\u001b[0m         msg\u001b[38;5;241m.\u001b[39mformat(arguments\u001b[38;5;241m=\u001b[39m_format_argument_list(allow_args)),\n\u001b[0;32m    328\u001b[0m         \u001b[38;5;167;01mFutureWarning\u001b[39;00m,\n\u001b[0;32m    329\u001b[0m         stacklevel\u001b[38;5;241m=\u001b[39mfind_stack_level(),\n\u001b[0;32m    330\u001b[0m     )\n\u001b[1;32m--> 331\u001b[0m \u001b[38;5;28;01mreturn\u001b[39;00m func(\u001b[38;5;241m*\u001b[39margs, \u001b[38;5;241m*\u001b[39m\u001b[38;5;241m*\u001b[39mkwargs)\n",
      "File \u001b[1;32m~\\AppData\\Local\\Packages\\PythonSoftwareFoundation.Python.3.10_qbz5n2kfra8p0\\LocalCache\\local-packages\\Python310\\site-packages\\pandas\\core\\reshape\\concat.py:368\u001b[0m, in \u001b[0;36mconcat\u001b[1;34m(objs, axis, join, ignore_index, keys, levels, names, verify_integrity, sort, copy)\u001b[0m\n\u001b[0;32m    146\u001b[0m \u001b[38;5;129m@deprecate_nonkeyword_arguments\u001b[39m(version\u001b[38;5;241m=\u001b[39m\u001b[38;5;28;01mNone\u001b[39;00m, allowed_args\u001b[38;5;241m=\u001b[39m[\u001b[38;5;124m\"\u001b[39m\u001b[38;5;124mobjs\u001b[39m\u001b[38;5;124m\"\u001b[39m])\n\u001b[0;32m    147\u001b[0m \u001b[38;5;28;01mdef\u001b[39;00m \u001b[38;5;21mconcat\u001b[39m(\n\u001b[0;32m    148\u001b[0m     objs: Iterable[NDFrame] \u001b[38;5;241m|\u001b[39m Mapping[HashableT, NDFrame],\n\u001b[1;32m   (...)\u001b[0m\n\u001b[0;32m    157\u001b[0m     copy: \u001b[38;5;28mbool\u001b[39m \u001b[38;5;241m=\u001b[39m \u001b[38;5;28;01mTrue\u001b[39;00m,\n\u001b[0;32m    158\u001b[0m ) \u001b[38;5;241m-\u001b[39m\u001b[38;5;241m>\u001b[39m DataFrame \u001b[38;5;241m|\u001b[39m Series:\n\u001b[0;32m    159\u001b[0m \u001b[38;5;250m    \u001b[39m\u001b[38;5;124;03m\"\"\"\u001b[39;00m\n\u001b[0;32m    160\u001b[0m \u001b[38;5;124;03m    Concatenate pandas objects along a particular axis.\u001b[39;00m\n\u001b[0;32m    161\u001b[0m \n\u001b[1;32m   (...)\u001b[0m\n\u001b[0;32m    366\u001b[0m \u001b[38;5;124;03m    1   3   4\u001b[39;00m\n\u001b[0;32m    367\u001b[0m \u001b[38;5;124;03m    \"\"\"\u001b[39;00m\n\u001b[1;32m--> 368\u001b[0m     op \u001b[38;5;241m=\u001b[39m \u001b[43m_Concatenator\u001b[49m\u001b[43m(\u001b[49m\n\u001b[0;32m    369\u001b[0m \u001b[43m        \u001b[49m\u001b[43mobjs\u001b[49m\u001b[43m,\u001b[49m\n\u001b[0;32m    370\u001b[0m \u001b[43m        \u001b[49m\u001b[43maxis\u001b[49m\u001b[38;5;241;43m=\u001b[39;49m\u001b[43maxis\u001b[49m\u001b[43m,\u001b[49m\n\u001b[0;32m    371\u001b[0m \u001b[43m        \u001b[49m\u001b[43mignore_index\u001b[49m\u001b[38;5;241;43m=\u001b[39;49m\u001b[43mignore_index\u001b[49m\u001b[43m,\u001b[49m\n\u001b[0;32m    372\u001b[0m \u001b[43m        \u001b[49m\u001b[43mjoin\u001b[49m\u001b[38;5;241;43m=\u001b[39;49m\u001b[43mjoin\u001b[49m\u001b[43m,\u001b[49m\n\u001b[0;32m    373\u001b[0m \u001b[43m        \u001b[49m\u001b[43mkeys\u001b[49m\u001b[38;5;241;43m=\u001b[39;49m\u001b[43mkeys\u001b[49m\u001b[43m,\u001b[49m\n\u001b[0;32m    374\u001b[0m \u001b[43m        \u001b[49m\u001b[43mlevels\u001b[49m\u001b[38;5;241;43m=\u001b[39;49m\u001b[43mlevels\u001b[49m\u001b[43m,\u001b[49m\n\u001b[0;32m    375\u001b[0m \u001b[43m        \u001b[49m\u001b[43mnames\u001b[49m\u001b[38;5;241;43m=\u001b[39;49m\u001b[43mnames\u001b[49m\u001b[43m,\u001b[49m\n\u001b[0;32m    376\u001b[0m \u001b[43m        \u001b[49m\u001b[43mverify_integrity\u001b[49m\u001b[38;5;241;43m=\u001b[39;49m\u001b[43mverify_integrity\u001b[49m\u001b[43m,\u001b[49m\n\u001b[0;32m    377\u001b[0m \u001b[43m        \u001b[49m\u001b[43mcopy\u001b[49m\u001b[38;5;241;43m=\u001b[39;49m\u001b[43mcopy\u001b[49m\u001b[43m,\u001b[49m\n\u001b[0;32m    378\u001b[0m \u001b[43m        \u001b[49m\u001b[43msort\u001b[49m\u001b[38;5;241;43m=\u001b[39;49m\u001b[43msort\u001b[49m\u001b[43m,\u001b[49m\n\u001b[0;32m    379\u001b[0m \u001b[43m    \u001b[49m\u001b[43m)\u001b[49m\n\u001b[0;32m    381\u001b[0m     \u001b[38;5;28;01mreturn\u001b[39;00m op\u001b[38;5;241m.\u001b[39mget_result()\n",
      "File \u001b[1;32m~\\AppData\\Local\\Packages\\PythonSoftwareFoundation.Python.3.10_qbz5n2kfra8p0\\LocalCache\\local-packages\\Python310\\site-packages\\pandas\\core\\reshape\\concat.py:425\u001b[0m, in \u001b[0;36m_Concatenator.__init__\u001b[1;34m(self, objs, axis, join, keys, levels, names, ignore_index, verify_integrity, copy, sort)\u001b[0m\n\u001b[0;32m    422\u001b[0m     objs \u001b[38;5;241m=\u001b[39m \u001b[38;5;28mlist\u001b[39m(objs)\n\u001b[0;32m    424\u001b[0m \u001b[38;5;28;01mif\u001b[39;00m \u001b[38;5;28mlen\u001b[39m(objs) \u001b[38;5;241m==\u001b[39m \u001b[38;5;241m0\u001b[39m:\n\u001b[1;32m--> 425\u001b[0m     \u001b[38;5;28;01mraise\u001b[39;00m \u001b[38;5;167;01mValueError\u001b[39;00m(\u001b[38;5;124m\"\u001b[39m\u001b[38;5;124mNo objects to concatenate\u001b[39m\u001b[38;5;124m\"\u001b[39m)\n\u001b[0;32m    427\u001b[0m \u001b[38;5;28;01mif\u001b[39;00m keys \u001b[38;5;129;01mis\u001b[39;00m \u001b[38;5;28;01mNone\u001b[39;00m:\n\u001b[0;32m    428\u001b[0m     objs \u001b[38;5;241m=\u001b[39m \u001b[38;5;28mlist\u001b[39m(com\u001b[38;5;241m.\u001b[39mnot_none(\u001b[38;5;241m*\u001b[39mobjs))\n",
      "\u001b[1;31mValueError\u001b[0m: No objects to concatenate"
     ]
    }
   ],
   "source": [
    "df.describe(include='object')"
   ]
  },
  {
   "cell_type": "markdown",
   "metadata": {},
   "source": [
    "bizde tüm columnlar int veya float olduğundan object type column hiç olmadığından hata veriyor"
   ]
  }
 ],
 "metadata": {
  "kernelspec": {
   "display_name": "Python 3",
   "language": "python",
   "name": "python3"
  },
  "language_info": {
   "codemirror_mode": {
    "name": "ipython",
    "version": 3
   },
   "file_extension": ".py",
   "mimetype": "text/x-python",
   "name": "python",
   "nbconvert_exporter": "python",
   "pygments_lexer": "ipython3",
   "version": "3.10.11"
  }
 },
 "nbformat": 4,
 "nbformat_minor": 2
}
